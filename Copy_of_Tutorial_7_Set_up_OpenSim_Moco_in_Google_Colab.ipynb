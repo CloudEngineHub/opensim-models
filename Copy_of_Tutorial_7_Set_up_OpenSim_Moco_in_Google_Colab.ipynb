{
  "nbformat": 4,
  "nbformat_minor": 0,
  "metadata": {
    "colab": {
      "provenance": [],
      "include_colab_link": true
    },
    "kernelspec": {
      "name": "python3",
      "display_name": "Python 3"
    },
    "language_info": {
      "name": "python"
    }
  },
  "cells": [
    {
      "cell_type": "markdown",
      "metadata": {
        "id": "view-in-github",
        "colab_type": "text"
      },
      "source": [
        "<a href=\"https://colab.research.google.com/github/opensim-org/opensim-models/blob/master/Copy_of_Tutorial_7_Set_up_OpenSim_Moco_in_Google_Colab.ipynb\" target=\"_parent\"><img src=\"https://colab.research.google.com/assets/colab-badge.svg\" alt=\"Open In Colab\"/></a>"
      ]
    },
    {
      "cell_type": "markdown",
      "source": [
        "# 1. Introduction to OpenSim Moco"
      ],
      "metadata": {
        "id": "YS-0eq5Y6BjU"
      }
    },
    {
      "cell_type": "markdown",
      "source": [
        "\n",
        "## 1.1. Objectives"
      ],
      "metadata": {
        "id": "ZZClpIjbitD4"
      }
    },
    {
      "cell_type": "markdown",
      "source": [
        "**Introduction to OpenSim - Moco**\n",
        "\n",
        "[OpenSim](https://opensim.stanford.edu/) is an open-source software that allows users to develop, analyze, and visualize models of the musculoskeletal system, and to generate dynamic simulations of movement [[1]](https://doi.org/10.1109/TBME.2007.901024). OpenSim enables users to create custom studies, including investigating the effects of musculoskeletal geometry, joint kinematics, and muscle-tendon properties on the forces and joint moments that the muscles can produce. With OpenSim, our goal is to provide a framework that allows the biomechanics community to create, share, and extend a library of models and dynamic simulation tools to study and quantify human and animal movement.\n",
        "\n",
        "**Purpose**\n",
        "\n",
        "The purpose of this tutorial is to introduce users to the [Conda OpenSim](https://anaconda.org/opensim-org/opensim) package, that allows the use of the library in [Jupyter notebooks](https://jupyter.org/). In this tutorial you will:\n",
        "\n",
        "*   Learn to set up OpenSim in a Jupyter environment ([Google Colab](https://colab.research.google.com/?hl=en)).\n",
        "*   Create a sliding mass model in OpenSim.\n",
        "*   Visualize the sliding mass  model\n",
        "*   Set up and Solve Moco dynamic optimization problem\n",
        "*   Plot results in matplotlib to check the quality of the solution\n",
        "**Format**\n",
        "\n",
        "This tutorial guides you through the setup of Conda OpenSim in Google Colab. Then, to test if OpenSim Colab installed correctly, you will create a simple pendulum, simulate it, and visualize its position. As you complete each section of the tutorial, feel free to explore Conda Opensim and modify the code blocks of the tutorial on your own."
      ],
      "metadata": {
        "id": "AKANMMa6iycq"
      }
    },
    {
      "cell_type": "markdown",
      "source": [
        "## 1.2. Set up Conda and OpenSim"
      ],
      "metadata": {
        "id": "kPnGlZIT8oiM"
      }
    },
    {
      "cell_type": "markdown",
      "source": [
        "In the following cell, you will use [condacolab](https://github.com/conda-incubator/condacolab) to install [Miniconda](https://docs.conda.io/en/latest/miniconda.html). If you want to install a different conda distribution (e.g., Anaconda, Mambaforge) check [condacolab's documentation](https://github.com/conda-incubator/condacolab#usage)."
      ],
      "metadata": {
        "id": "3kxYrs4Hi6Nl"
      }
    },
    {
      "cell_type": "code",
      "execution_count": 1,
      "metadata": {
        "id": "5-sX9L3f6Asq",
        "colab": {
          "base_uri": "https://localhost:8080/"
        },
        "outputId": "c2e23939-55e1-4481-c98c-33e5a1556c17"
      },
      "outputs": [
        {
          "output_type": "stream",
          "name": "stdout",
          "text": [
            "⏬ Downloading https://github.com/conda-forge/miniforge/releases/download/23.11.0-0/Mambaforge-23.11.0-0-Linux-x86_64.sh...\n",
            "📦 Installing...\n",
            "📌 Adjusting configuration...\n",
            "🩹 Patching environment...\n",
            "⏲ Done in 0:00:13\n",
            "🔁 Restarting kernel...\n"
          ]
        }
      ],
      "source": [
        "!pip install -q condacolab\n",
        "import condacolab\n",
        "condacolab.install()"
      ]
    },
    {
      "cell_type": "markdown",
      "source": [
        "Don't worry if after executing the previous cell you get an error saying that your session has failed. The reason for this is that condacolab needs to restart the session for the changes to take effect. Because of this, you have to execute the previous cell first, before executing any other cell.\n",
        "\n",
        "Now, execute the following cell to install the OpenSim conda package using conda."
      ],
      "metadata": {
        "id": "LdmpfqC8Dt0x"
      }
    },
    {
      "cell_type": "code",
      "source": [
        "!conda install opensim_admin::opensim-moco"
      ],
      "metadata": {
        "id": "H9WE2h3fD61J",
        "colab": {
          "base_uri": "https://localhost:8080/"
        },
        "outputId": "17e65286-6b0e-417e-9b30-faedd1e42d1e"
      },
      "execution_count": 2,
      "outputs": [
        {
          "output_type": "stream",
          "name": "stdout",
          "text": [
            "Channels:\n",
            " - conda-forge\n",
            " - opensim_admin\n",
            "Platform: linux-64\n",
            "Collecting package metadata (repodata.json): - \b\b\\ \b\b| \b\b/ \b\b- \b\b\\ \b\b| \b\b/ \b\b- \b\b\\ \b\b| \b\b/ \b\b- \b\b\\ \b\b| \b\b/ \b\b- \b\b\\ \b\b| \b\b/ \b\b- \b\b\\ \b\b| \b\b/ \b\b- \b\b\\ \b\b| \b\b/ \b\b- \b\b\\ \b\b| \b\b/ \b\b- \b\b\\ \b\b| \b\b/ \b\b- \b\b\\ \b\b| \b\b/ \b\b- \b\b\\ \b\b| \b\b/ \b\b- \b\b\\ \b\b| \b\b/ \b\b- \b\b\\ \b\b| \b\b/ \b\b- \b\b\\ \b\b| \b\b/ \b\b- \b\b\\ \b\b| \b\b/ \b\b- \b\b\\ \b\b| \b\b/ \b\b- \b\b\\ \b\b| \b\b/ \b\b- \b\b\\ \b\b| \b\b/ \b\b- \b\b\\ \b\b| \b\b/ \b\b- \b\b\\ \b\b| \b\b/ \b\b- \b\b\\ \b\b| \b\b/ \b\b- \b\b\\ \b\b| \b\b/ \b\b- \b\b\\ \b\b| \b\b/ \b\b- \b\b\\ \b\b| \b\b/ \b\b- \b\b\\ \b\b| \b\b/ \b\b- \b\b\\ \b\b| \b\b/ \b\b- \b\b\\ \b\b| \b\b/ \b\b- \b\b\\ \b\b| \b\b/ \b\b- \b\b\\ \b\b| \b\b/ \b\b- \b\b\\ \b\b| \b\b/ \b\b- \b\b\\ \b\b| \b\b/ \b\b- \b\b\\ \b\b| \b\b/ \b\b- \b\b\\ \b\b| \b\b/ \b\b- \b\b\\ \b\b| \b\b/ \b\b- \b\b\\ \b\b| \b\b/ \b\b- \b\b\\ \b\b| \b\b/ \b\b- \b\b\\ \b\b| \b\b/ \b\b- \b\b\\ \b\b| \b\b/ \b\b- \b\b\\ \b\b| \b\b/ \b\b- \b\b\\ \b\b| \b\b/ \b\b- \b\b\\ \b\b| \b\b/ \b\b- \b\b\\ \b\b| \b\b/ \b\b- \b\b\\ \b\b| \b\b/ \b\b- \b\b\\ \b\b| \b\b/ \b\b- \b\b\\ \b\b| \b\b/ \b\b- \b\b\\ \b\b| \b\b/ \b\b- \b\b\\ \b\b| \b\b/ \b\b- \b\b\\ \b\b| \b\b/ \b\b- \b\b\\ \b\b| \b\b/ \b\b- \b\b\\ \b\b| \b\b/ \b\b- \b\b\\ \b\b| \b\b/ \b\b- \b\b\\ \b\b| \b\b/ \b\b- \b\b\\ \b\b| \b\b/ \b\b- \b\b\\ \b\b| \b\b/ \b\b- \b\b\\ \b\b| \b\b/ \b\b- \b\b\\ \b\b| \b\b/ \b\b- \b\b\\ \b\bdone\n",
            "Solving environment: / \b\b- \b\b\\ \b\bdone\n",
            "\n",
            "\n",
            "==> WARNING: A newer version of conda exists. <==\n",
            "    current version: 23.11.0\n",
            "    latest version: 24.3.0\n",
            "\n",
            "Please update conda by running\n",
            "\n",
            "    $ conda update -n base -c conda-forge conda\n",
            "\n",
            "\n",
            "\n",
            "## Package Plan ##\n",
            "\n",
            "  environment location: /usr/local\n",
            "\n",
            "  added / updated specs:\n",
            "    - opensim_admin::opensim-moco\n",
            "\n",
            "\n",
            "The following packages will be downloaded:\n",
            "\n",
            "    package                    |            build\n",
            "    ---------------------------|-----------------\n",
            "    ca-certificates-2024.2.2   |       hbcca054_0         152 KB  conda-forge\n",
            "    certifi-2024.2.2           |     pyhd8ed1ab_0         157 KB  conda-forge\n",
            "    libblas-3.9.0              |       8_openblas          11 KB  conda-forge\n",
            "    libcblas-3.9.0             |       8_openblas          11 KB  conda-forge\n",
            "    libgfortran-ng-7.5.0       |      h14aa051_20          23 KB  conda-forge\n",
            "    libgfortran4-7.5.0         |      h14aa051_20         1.2 MB  conda-forge\n",
            "    liblapack-3.9.0            |       8_openblas          11 KB  conda-forge\n",
            "    libopenblas-0.3.12         |pthreads_hb3c22a3_1         8.2 MB  conda-forge\n",
            "    numpy-1.21.6               |  py310h45f3432_0         6.2 MB  conda-forge\n",
            "    openblas-0.3.12            |pthreads_h43bd3aa_1         8.7 MB  conda-forge\n",
            "    opensim-moco-4.5.1         |       py310np121        78.1 MB  opensim_admin\n",
            "    openssl-3.2.1              |       hd590300_1         2.7 MB  conda-forge\n",
            "    ------------------------------------------------------------\n",
            "                                           Total:       105.5 MB\n",
            "\n",
            "The following NEW packages will be INSTALLED:\n",
            "\n",
            "  libblas            conda-forge/linux-64::libblas-3.9.0-8_openblas \n",
            "  libcblas           conda-forge/linux-64::libcblas-3.9.0-8_openblas \n",
            "  libgfortran-ng     conda-forge/linux-64::libgfortran-ng-7.5.0-h14aa051_20 \n",
            "  libgfortran4       conda-forge/linux-64::libgfortran4-7.5.0-h14aa051_20 \n",
            "  liblapack          conda-forge/linux-64::liblapack-3.9.0-8_openblas \n",
            "  libopenblas        conda-forge/linux-64::libopenblas-0.3.12-pthreads_hb3c22a3_1 \n",
            "  numpy              conda-forge/linux-64::numpy-1.21.6-py310h45f3432_0 \n",
            "  openblas           conda-forge/linux-64::openblas-0.3.12-pthreads_h43bd3aa_1 \n",
            "  opensim-moco       opensim_admin/linux-64::opensim-moco-4.5.1-py310np121 \n",
            "\n",
            "The following packages will be UPDATED:\n",
            "\n",
            "  ca-certificates                     2023.11.17-hbcca054_0 --> 2024.2.2-hbcca054_0 \n",
            "  certifi                           2023.11.17-pyhd8ed1ab_0 --> 2024.2.2-pyhd8ed1ab_0 \n",
            "  openssl                                  3.2.0-hd590300_1 --> 3.2.1-hd590300_1 \n",
            "\n",
            "\n",
            "\n",
            "Downloading and Extracting Packages:\n",
            "opensim-moco-4.5.1   | 78.1 MB   | :   0% 0/1 [00:00<?, ?it/s]\n",
            "openblas-0.3.12      | 8.7 MB    | :   0% 0/1 [00:00<?, ?it/s]\u001b[A\n",
            "\n",
            "libopenblas-0.3.12   | 8.2 MB    | :   0% 0/1 [00:00<?, ?it/s]\u001b[A\u001b[A\n",
            "\n",
            "\n",
            "numpy-1.21.6         | 6.2 MB    | :   0% 0/1 [00:00<?, ?it/s]\u001b[A\u001b[A\u001b[A\n",
            "\n",
            "\n",
            "\n",
            "openssl-3.2.1        | 2.7 MB    | :   0% 0/1 [00:00<?, ?it/s]\u001b[A\u001b[A\u001b[A\u001b[A\n",
            "\n",
            "\n",
            "\n",
            "\n",
            "libgfortran4-7.5.0   | 1.2 MB    | :   0% 0/1 [00:00<?, ?it/s]\u001b[A\u001b[A\u001b[A\u001b[A\u001b[A\n",
            "\n",
            "\n",
            "\n",
            "\n",
            "\n",
            "certifi-2024.2.2     | 157 KB    | :   0% 0/1 [00:00<?, ?it/s]\u001b[A\u001b[A\u001b[A\u001b[A\u001b[A\u001b[A\n",
            "\n",
            "\n",
            "\n",
            "\n",
            "\n",
            "\n",
            "ca-certificates-2024 | 152 KB    | :   0% 0/1 [00:00<?, ?it/s]\u001b[A\u001b[A\u001b[A\u001b[A\u001b[A\u001b[A\u001b[A\n",
            "\n",
            "\n",
            "\n",
            "\n",
            "\n",
            "\n",
            "\n",
            "libgfortran-ng-7.5.0 | 23 KB     | :   0% 0/1 [00:00<?, ?it/s]\u001b[A\u001b[A\u001b[A\u001b[A\u001b[A\u001b[A\u001b[A\u001b[A\n",
            "\n",
            "\n",
            "\n",
            "\n",
            "\n",
            "\n",
            "\n",
            "\n",
            "libblas-3.9.0        | 11 KB     | :   0% 0/1 [00:00<?, ?it/s]\u001b[A\u001b[A\u001b[A\u001b[A\u001b[A\u001b[A\u001b[A\u001b[A\u001b[A\n",
            "\n",
            "\n",
            "\n",
            "\n",
            "\n",
            "\n",
            "\n",
            "\n",
            "\n",
            "liblapack-3.9.0      | 11 KB     | :   0% 0/1 [00:00<?, ?it/s]\u001b[A\u001b[A\u001b[A\u001b[A\u001b[A\u001b[A\u001b[A\u001b[A\u001b[A\u001b[A\n",
            "\n",
            "\n",
            "\n",
            "\n",
            "\n",
            "\n",
            "\n",
            "\n",
            "\n",
            "\n",
            "libcblas-3.9.0       | 11 KB     | :   0% 0/1 [00:00<?, ?it/s]\u001b[A\u001b[A\u001b[A\u001b[A\u001b[A\u001b[A\u001b[A\u001b[A\u001b[A\u001b[A\u001b[A\n",
            "\n",
            "\n",
            "\n",
            "openssl-3.2.1        | 2.7 MB    | :   1% 0.005717917245851247/1 [00:00<00:27, 27.29s/it]\u001b[A\u001b[A\u001b[A\u001b[A\n",
            "\n",
            "\n",
            "numpy-1.21.6         | 6.2 MB    | :   0% 0.002535879820593932/1 [00:00<01:15, 76.07s/it]\u001b[A\u001b[A\u001b[A\n",
            "\n",
            "libopenblas-0.3.12   | 8.2 MB    | :   0% 0.0019085581195204236/1 [00:00<01:48, 108.51s/it]\u001b[A\u001b[A\n",
            "\n",
            "\n",
            "numpy-1.21.6         | 6.2 MB    | :  55% 0.5528218008894772/1 [00:00<00:00,  2.34it/s]  \u001b[A\u001b[A\u001b[A\n",
            "\n",
            "\n",
            "\n",
            "\n",
            "libgfortran4-7.5.0   | 1.2 MB    | :   1% 0.012509763708705143/1 [00:00<00:22, 23.11s/it]\u001b[A\u001b[A\u001b[A\u001b[A\u001b[A\n",
            "\n",
            "libopenblas-0.3.12   | 8.2 MB    | :  38% 0.38362018202360515/1 [00:00<00:00,  1.54it/s]   \u001b[A\u001b[A\n",
            "openblas-0.3.12      | 8.7 MB    | :   0% 0.0017899307002721494/1 [00:00<02:57, 177.38s/it]\u001b[A\n",
            "\n",
            "\n",
            "\n",
            "\n",
            "\n",
            "certifi-2024.2.2     | 157 KB    | :  10% 0.10204348557228184/1 [00:00<00:03,  3.93s/it]\u001b[A\u001b[A\u001b[A\u001b[A\u001b[A\u001b[A\n",
            "openblas-0.3.12      | 8.7 MB    | :   6% 0.060857643809253084/1 [00:00<00:05,  5.38s/it]  \u001b[A\n",
            "\n",
            "\n",
            "\n",
            "\n",
            "\n",
            "\n",
            "ca-certificates-2024 | 152 KB    | :  11% 0.10540943949765814/1 [00:00<00:04,  4.66s/it]\u001b[A\u001b[A\u001b[A\u001b[A\u001b[A\u001b[A\u001b[A\n",
            "openblas-0.3.12      | 8.7 MB    | :  26% 0.2577500208391895/1 [00:00<00:01,  1.37s/it]  \u001b[A\n",
            "\n",
            "\n",
            "\n",
            "\n",
            "\n",
            "\n",
            "\n",
            "libgfortran-ng-7.5.0 | 23 KB     | :  70% 0.6991252400256027/1 [00:00<00:00,  1.26it/s]\u001b[A\u001b[A\u001b[A\u001b[A\u001b[A\u001b[A\u001b[A\u001b[A\n",
            "\n",
            "\n",
            "\n",
            "\n",
            "\n",
            "\n",
            "\n",
            "\n",
            "libblas-3.9.0        | 11 KB     | : 100% 1.0/1 [00:00<00:00,  1.69it/s]\u001b[A\u001b[A\u001b[A\u001b[A\u001b[A\u001b[A\u001b[A\u001b[A\u001b[A\n",
            "openblas-0.3.12      | 8.7 MB    | :  64% 0.6425851213977016/1 [00:00<00:00,  1.67it/s]\u001b[A\n",
            "\n",
            "\n",
            "\n",
            "\n",
            "\n",
            "\n",
            "\n",
            "\n",
            "\n",
            "\n",
            "libcblas-3.9.0       | 11 KB     | : 100% 1.0/1 [00:00<00:00,  1.64it/s]\u001b[A\u001b[A\u001b[A\u001b[A\u001b[A\u001b[A\u001b[A\u001b[A\u001b[A\u001b[A\u001b[A\n",
            "\n",
            "\n",
            "\n",
            "\n",
            "\n",
            "\n",
            "\n",
            "\n",
            "\n",
            "liblapack-3.9.0      | 11 KB     | : 100% 1.0/1 [00:00<00:00,  1.60it/s]\u001b[A\u001b[A\u001b[A\u001b[A\u001b[A\u001b[A\u001b[A\u001b[A\u001b[A\u001b[A\n",
            "\n",
            "\n",
            "\n",
            "openssl-3.2.1        | 2.7 MB    | : 100% 1.0/1 [00:00<00:00,  1.07it/s]                 \u001b[A\u001b[A\u001b[A\u001b[A\n",
            "\n",
            "\n",
            "\n",
            "openssl-3.2.1        | 2.7 MB    | : 100% 1.0/1 [00:00<00:00,  1.07it/s]\u001b[A\u001b[A\u001b[A\u001b[A\n",
            "\n",
            "\n",
            "\n",
            "\n",
            "\n",
            "certifi-2024.2.2     | 157 KB    | : 100% 1.0/1 [00:01<00:00,  1.06it/s]                \u001b[A\u001b[A\u001b[A\u001b[A\u001b[A\u001b[A\n",
            "\n",
            "\n",
            "\n",
            "\n",
            "\n",
            "certifi-2024.2.2     | 157 KB    | : 100% 1.0/1 [00:01<00:00,  1.06it/s]\u001b[A\u001b[A\u001b[A\u001b[A\u001b[A\u001b[A\n",
            "\n",
            "\n",
            "\n",
            "\n",
            "\n",
            "\n",
            "ca-certificates-2024 | 152 KB    | : 100% 1.0/1 [00:01<00:00,  1.03it/s]                \u001b[A\u001b[A\u001b[A\u001b[A\u001b[A\u001b[A\u001b[A\n",
            "\n",
            "\n",
            "\n",
            "\n",
            "\n",
            "\n",
            "ca-certificates-2024 | 152 KB    | : 100% 1.0/1 [00:01<00:00,  1.03it/s]\u001b[A\u001b[A\u001b[A\u001b[A\u001b[A\u001b[A\u001b[A\n",
            "\n",
            "\n",
            "\n",
            "\n",
            "libgfortran4-7.5.0   | 1.2 MB    | : 100% 1.0/1 [00:01<00:00,  1.87s/it]                 \u001b[A\u001b[A\u001b[A\u001b[A\u001b[A\n",
            "\n",
            "\n",
            "\n",
            "\n",
            "libgfortran4-7.5.0   | 1.2 MB    | : 100% 1.0/1 [00:01<00:00,  1.87s/it]\u001b[A\u001b[A\u001b[A\u001b[A\u001b[A\n",
            "\n",
            "\n",
            "numpy-1.21.6         | 6.2 MB    | : 100% 1.0/1 [00:05<00:00,  6.48s/it]               \u001b[A\u001b[A\u001b[A\n",
            "\n",
            "\n",
            "numpy-1.21.6         | 6.2 MB    | : 100% 1.0/1 [00:05<00:00,  6.48s/it]\u001b[A\u001b[A\u001b[A\n",
            "\n",
            "\n",
            "\n",
            "\n",
            "\n",
            "\n",
            "\n",
            "libgfortran-ng-7.5.0 | 23 KB     | : 100% 1.0/1 [00:05<00:00,  6.81s/it]               \u001b[A\u001b[A\u001b[A\u001b[A\u001b[A\u001b[A\u001b[A\u001b[A\n",
            "\n",
            "\n",
            "\n",
            "\n",
            "\n",
            "\n",
            "\n",
            "libgfortran-ng-7.5.0 | 23 KB     | : 100% 1.0/1 [00:05<00:00,  6.81s/it]\u001b[A\u001b[A\u001b[A\u001b[A\u001b[A\u001b[A\u001b[A\u001b[A\n",
            "\n",
            "\n",
            "\n",
            "\n",
            "\n",
            "\n",
            "\n",
            "\n",
            "libblas-3.9.0        | 11 KB     | : 100% 1.0/1 [00:05<00:00,  1.69it/s]\u001b[A\u001b[A\u001b[A\u001b[A\u001b[A\u001b[A\u001b[A\u001b[A\u001b[A\n",
            "\n",
            "\n",
            "\n",
            "\n",
            "\n",
            "\n",
            "\n",
            "\n",
            "\n",
            "\n",
            "libcblas-3.9.0       | 11 KB     | : 100% 1.0/1 [00:05<00:00,  1.64it/s]\u001b[A\u001b[A\u001b[A\u001b[A\u001b[A\u001b[A\u001b[A\u001b[A\u001b[A\u001b[A\u001b[A\n",
            "\n",
            "\n",
            "\n",
            "\n",
            "\n",
            "\n",
            "\n",
            "\n",
            "\n",
            "liblapack-3.9.0      | 11 KB     | : 100% 1.0/1 [00:05<00:00,  1.60it/s]\u001b[A\u001b[A\u001b[A\u001b[A\u001b[A\u001b[A\u001b[A\u001b[A\u001b[A\u001b[A\n",
            "\n",
            "libopenblas-0.3.12   | 8.2 MB    | : 100% 1.0/1 [00:05<00:00,  6.40s/it]                \u001b[A\u001b[A\n",
            "\n",
            "libopenblas-0.3.12   | 8.2 MB    | : 100% 1.0/1 [00:05<00:00,  6.40s/it]\u001b[A\u001b[A\n",
            "openblas-0.3.12      | 8.7 MB    | : 100% 1.0/1 [00:09<00:00, 11.80s/it]               \u001b[A\n",
            "                                                                        \n",
            "                                                                        \u001b[A\n",
            "\n",
            "                                                                        \u001b[A\u001b[A\n",
            "\n",
            "\n",
            "                                                                        \u001b[A\u001b[A\u001b[A\n",
            "\n",
            "\n",
            "\n",
            "                                                                        \u001b[A\u001b[A\u001b[A\u001b[A\n",
            "\n",
            "\n",
            "\n",
            "\n",
            "                                                                        \u001b[A\u001b[A\u001b[A\u001b[A\u001b[A\n",
            "\n",
            "\n",
            "\n",
            "\n",
            "\n",
            "                                                                        \u001b[A\u001b[A\u001b[A\u001b[A\u001b[A\u001b[A\n",
            "\n",
            "\n",
            "\n",
            "\n",
            "\n",
            "\n",
            "                                                                        \u001b[A\u001b[A\u001b[A\u001b[A\u001b[A\u001b[A\u001b[A\n",
            "\n",
            "\n",
            "\n",
            "\n",
            "\n",
            "\n",
            "\n",
            "                                                                        \u001b[A\u001b[A\u001b[A\u001b[A\u001b[A\u001b[A\u001b[A\u001b[A\n",
            "\n",
            "\n",
            "\n",
            "\n",
            "\n",
            "\n",
            "\n",
            "\n",
            "                                                                        \u001b[A\u001b[A\u001b[A\u001b[A\u001b[A\u001b[A\u001b[A\u001b[A\u001b[A\n",
            "\n",
            "\n",
            "\n",
            "\n",
            "\n",
            "\n",
            "\n",
            "\n",
            "\n",
            "                                                                        \u001b[A\u001b[A\u001b[A\u001b[A\u001b[A\u001b[A\u001b[A\u001b[A\u001b[A\u001b[A\n",
            "\n",
            "\n",
            "\n",
            "\n",
            "\n",
            "\n",
            "\n",
            "\n",
            "\n",
            "\n",
            "                                                                        \u001b[A\u001b[A\u001b[A\u001b[A\u001b[A\u001b[A\u001b[A\u001b[A\u001b[A\u001b[A\u001b[A\n",
            "Preparing transaction: / \b\b- \b\b\\ \b\bdone\n",
            "Verifying transaction: / \b\b- \b\b\\ \b\b| \b\b/ \b\b- \b\b\\ \b\b| \b\b/ \b\b- \b\b\\ \b\b| \b\b/ \b\b- \b\b\\ \b\b| \b\b/ \b\b- \b\b\\ \b\b| \b\b/ \b\b- \b\b\\ \b\b| \b\b/ \b\b- \b\bdone\n",
            "Executing transaction: | \b\b/ \b\b- \b\b\\ \b\b| \b\b/ \b\b- \b\b\\ \b\b| \b\b/ \b\b- \b\b\\ \b\b| \b\b/ \b\b- \b\b\\ \b\b| \b\b/ \b\bdone\n"
          ]
        }
      ]
    },
    {
      "cell_type": "markdown",
      "source": [
        "## 1.3. Using OpenSim Moco to Solve Sliding Mass Problem with Casadi Solver\n"
      ],
      "metadata": {
        "id": "hj5Y1HCXEb_M"
      }
    },
    {
      "cell_type": "markdown",
      "source": [],
      "metadata": {
        "id": "1W4hVOJvEmc5"
      }
    },
    {
      "cell_type": "markdown",
      "source": [
        "The following cell imports the OpenSim module and, if successful, shows the current version and build date (**should be 4.5**)."
      ],
      "metadata": {
        "id": "BV3ofVUoEkEi"
      }
    },
    {
      "cell_type": "code",
      "source": [
        "import opensim as osim\n",
        "osim.GetVersionAndDate()"
      ],
      "metadata": {
        "id": "H4vWQbmhEjVr",
        "colab": {
          "base_uri": "https://localhost:8080/",
          "height": 36
        },
        "outputId": "3564bd5c-4b57-433e-cbeb-3cc858532998"
      },
      "execution_count": 1,
      "outputs": [
        {
          "output_type": "execute_result",
          "data": {
            "text/plain": [
              "'version 4.5-2024-03-05-f72a60451, build date 23:16:25 Mar  5 2024'"
            ],
            "application/vnd.google.colaboratory.intrinsic+json": {
              "type": "string"
            }
          },
          "metadata": {},
          "execution_count": 1
        }
      ]
    },
    {
      "cell_type": "code",
      "source": [
        "model = osim.Model()\n",
        "model.setName('sliding_mass')\n",
        "model.set_gravity(osim.Vec3(0, 0, 0))\n",
        "body = osim.Body('body', 2.0, osim.Vec3(0), osim.Inertia(0))\n",
        "model.addComponent(body)\n",
        "\n",
        "# Allows translation along x.\n",
        "joint = osim.SliderJoint('slider', model.getGround(), body)\n",
        "coord = joint.updCoordinate()\n",
        "coord.setName('position')\n",
        "model.addComponent(joint)\n",
        "\n",
        "actu = osim.CoordinateActuator()\n",
        "actu.setCoordinate(coord)\n",
        "actu.setName('actuator')\n",
        "actu.setOptimalForce(1)\n",
        "model.addComponent(actu)\n",
        "\n",
        "body.attachGeometry(osim.Sphere(0.05))\n",
        "\n",
        "model.finalizeConnections()\n",
        "model.printToXML('SlidingMass.osim')\n",
        "\n",
        "# Create MocoStudy.\n",
        "# ================\n",
        "study = osim.MocoStudy()\n",
        "study.setName('sliding_mass')\n",
        "\n",
        "# Define the optimal control problem.\n",
        "# ===================================\n",
        "problem = study.updProblem()\n",
        "\n",
        "# Model (dynamics).\n",
        "# -----------------\n",
        "problem.setModel(model)\n",
        "\n",
        "# Bounds.\n",
        "# -------\n",
        "# Initial time must be 0, final time can be within [0, 5].\n",
        "problem.setTimeBounds(osim.MocoInitialBounds(0.), osim.MocoFinalBounds(0., 5.))\n",
        "\n",
        "# Position must be within [-5, 5] throughout the motion.\n",
        "# Initial position must be 0, final position must be 1.\n",
        "problem.setStateInfo('/slider/position/value', osim.MocoBounds(-5, 5),\n",
        "                     osim.MocoInitialBounds(0), osim.MocoFinalBounds(1))\n",
        "# Speed must be within [-50, 50] throughout the motion.\n",
        "# Initial and final speed must be 0. Use compact syntax.\n",
        "problem.setStateInfo('/slider/position/speed', [-50, 50], [0], [0])\n",
        "\n",
        "# Applied force must be between -50 and 50.\n",
        "problem.setControlInfo('/actuator', osim.MocoBounds(-50, 50))\n",
        "\n",
        "# Cost.\n",
        "# -----\n",
        "problem.addGoal(osim.MocoFinalTimeGoal())\n",
        "\n",
        "# Configure the solver.\n",
        "# =====================\n",
        "solver = study.initCasADiSolver()\n",
        "solver.set_num_mesh_intervals(100)\n",
        "\n",
        "# Now that we've finished setting up the study, print it to a file.\n",
        "study.printToXML('sliding_mass.omoco')\n",
        "\n",
        "# Solve the problem.\n",
        "# ==================\n",
        "solution = study.solve()\n",
        "\n",
        "solution.write('sliding_mass_solution.sto')\n",
        "\n",
        "solutionAsTable = solution.exportToStatesTable()\n",
        "# Extract time values for the x-axis.\n",
        "times = solutionAsTable.getIndependentColumn()\n",
        "\n",
        "# Extract positions of the mass over time.\n",
        "positions = solutionAsTable.getDependentColumn('/slider/position/value')\n",
        "\n",
        "speeds = solutionAsTable.getDependentColumn('/slider/position/speed')\n",
        "\n"
      ],
      "metadata": {
        "id": "uCT1o9zzF-Nn"
      },
      "execution_count": 2,
      "outputs": []
    },
    {
      "cell_type": "markdown",
      "source": [
        "You should now have a sliding_mass_solution.sto in your files."
      ],
      "metadata": {
        "id": "bMYcGGuaetwS"
      }
    },
    {
      "cell_type": "markdown",
      "source": [
        "Plot the results to verify that the MocoProblem solved, will plot position, velocity of the coordinate from the solution."
      ],
      "metadata": {
        "id": "VVfNIZIkEkL-"
      }
    },
    {
      "cell_type": "code",
      "source": [
        "\n",
        "import matplotlib.pyplot as plt\n",
        "import numpy as np\n",
        "\n",
        "# Plot time against sliding mass's position.\n",
        "plt.title(\"Position of the mass over time\")\n",
        "plt.plot(times, positions.to_numpy())\n",
        "plt.plot(times, speeds.to_numpy())\n",
        "plt.legend(['Position'], loc='best')\n",
        "plt.xlabel(\"Time\")\n",
        "plt.ylabel(\"Position\");\n",
        "\n"
      ],
      "metadata": {
        "id": "cR6B8SMCExNq",
        "outputId": "e348c378-59ef-417c-c70e-8e5c72e0a88b",
        "colab": {
          "base_uri": "https://localhost:8080/",
          "height": 472
        }
      },
      "execution_count": 3,
      "outputs": [
        {
          "output_type": "display_data",
          "data": {
            "text/plain": [
              "<Figure size 640x480 with 1 Axes>"
            ],
            "image/png": "[encoded data removed]"
          },
          "metadata": {}
        }
      ]
    },
    {
      "cell_type": "markdown",
      "source": [
        "## 1.4. Conclusion"
      ],
      "metadata": {
        "id": "J5mhS9zNX9ff"
      }
    },
    {
      "cell_type": "markdown",
      "source": [
        "In this tutorial you used [condacolab](https://github.com/conda-incubator/condacolab) to install [Miniconda](https://docs.conda.io/en/latest/miniconda.html) in [Google Colab](https://colab.research.google.com/?hl=en). Then, you  installed Conda [OpenSim](https://opensim.stanford.edu/) in the Miniconda environment, and you tested it by creating and simulating a simple pendulum and simulating. Finally, you plotted the positions of the pendulum using [matplotlib](https://matplotlib.org/)."
      ],
      "metadata": {
        "id": "_M04jPJLuiUz"
      }
    },
    {
      "cell_type": "markdown",
      "source": [
        "## 1.5. Useful Links\n",
        "\n",
        "\n",
        "\n"
      ],
      "metadata": {
        "id": "lLWgd8Noun6Y"
      }
    },
    {
      "cell_type": "markdown",
      "source": [
        "> **OpenSim Website:** https://opensim.stanford.edu/\n",
        ">\n",
        "> **OpenSim API Documentation:** https://simtk.org/api_docs/opensim/api_docs/\n",
        ">\n",
        "> **OpenSim Creator Website:** https://opensimcreator.com/\n",
        ">\n",
        "> **SimTK Website:** https://simtk.org/projects/opensim\n",
        ">\n",
        "> **Biomechanics of Movement Course Videos:** https://www.youtube.com/channel/UCDNGy0KKNLQ-ztcL5h2Z6zA"
      ],
      "metadata": {
        "id": "m8M3dlT5xQcD"
      }
    },
    {
      "cell_type": "markdown",
      "source": [
        "##1.6 Acknowledgments\n",
        "\n",
        "Thanks to [OpenSimColab](https://simtk.org/projects/opencolab) project [[2]](https://doi.org/10.1080/10255842.2022.2104607) for creating the first OpenSim Conda package."
      ],
      "metadata": {
        "id": "rFR2Rf9tk_9A"
      }
    },
    {
      "cell_type": "markdown",
      "source": [
        "## 1.7. References\n",
        "\n",
        "\n"
      ],
      "metadata": {
        "id": "dxMjdukAnH2N"
      }
    },
    {
      "cell_type": "markdown",
      "source": [
        "> [1] Delp, S. L., Anderson, F. C., Arnold, A. S., Loan, P., Habib, A., John, C. T., Guendelman, E., & Thelen, D. G. (2007). **OpenSim: open-source software to create and analyze dynamic simulations of movement.** *IEEE Transactions on Bio-Medical Engineering*, 54(11), 1940–1950. https://doi.org/10.1109/TBME.2007.901024\n",
        ">\n",
        "> [2] Mokhtarzadeh, H., Jiang, F., Zhao, S., & Malekipour, F. (2022). **OpenColab project: OpenSim in Google colaboratory to explore biomechanics on the web.** *Computer Methods in Biomechanics and Biomedical Engineering*, 1–9. https://doi.org/10.1080/10255842.2022.2104607"
      ],
      "metadata": {
        "id": "WX2A_iaYulV1"
      }
    }
  ]
}